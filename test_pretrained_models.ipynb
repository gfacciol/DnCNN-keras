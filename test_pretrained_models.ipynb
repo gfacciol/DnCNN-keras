{
 "cells": [
  {
   "cell_type": "markdown",
   "metadata": {},
   "source": [
    "# Load and test pre-trained models"
   ]
  },
  {
   "cell_type": "code",
   "execution_count": null,
   "metadata": {},
   "outputs": [],
   "source": [
    "## UTILITY FUNCTION TO DISPLAY IMAGES IN THE NOTEBOOK    \n",
    "def show_array(a, fmt='jpeg'):\n",
    "    ''' \n",
    "    display a numpy array as an image\n",
    "    supports monochrome (shape = (N,M,1) or (N,M))\n",
    "    and color arrays (N,M,3)  \n",
    "    '''\n",
    "    import PIL.Image\n",
    "    from io import BytesIO\n",
    "    import IPython.display\n",
    "    import numpy as np\n",
    "    f = BytesIO()\n",
    "    PIL.Image.fromarray(np.uint8(a).squeeze() ).save(f, fmt)\n",
    "    IPython.display.display(IPython.display.Image(data=f.getvalue()))\n",
    "  "
   ]
  },
  {
   "cell_type": "markdown",
   "metadata": {},
   "source": [
    "## Grayscale"
   ]
  },
  {
   "cell_type": "code",
   "execution_count": null,
   "metadata": {},
   "outputs": [],
   "source": [
    "import numpy as np\n",
    "from PIL import Image\n",
    "import models\n",
    "from keras.models import load_model\n",
    "\n",
    "sigma=50\n",
    "\n",
    "# load the model \n",
    "#m = models.DnCNN()\n",
    "m = models.DnCNN_pretrained_weights(sigma, 'dncnnmodel.hdf5', verbose=False)\n",
    "m = load_model('dncnnmodel.hdf5')  # reload it from the saved file\n",
    "\n",
    "\n",
    "\n",
    "# noisy image\n",
    "img_clean = np.array(Image.open('DnCNN/testsets/Set12/01.png'), dtype='float32') / 255.0\n",
    "x_test = img_clean + np.random.randn(*img_clean.shape)*sigma/255\n",
    "x_test = x_test.reshape(1, x_test.shape[0], x_test.shape[1], 1) \n",
    "\n",
    "# predict noiseless\n",
    "y_predict = m.predict(x_test)\n",
    "\n",
    "# display\n",
    "show_array(x_test.clip(0,1).squeeze()*255)\n",
    "show_array(y_predict.clip(0,1).squeeze()*255)"
   ]
  },
  {
   "cell_type": "markdown",
   "metadata": {},
   "source": [
    "## Color"
   ]
  },
  {
   "cell_type": "code",
   "execution_count": null,
   "metadata": {},
   "outputs": [],
   "source": [
    "import numpy as np\n",
    "from PIL import Image\n",
    "import models\n",
    "\n",
    "sigma=50\n",
    "\n",
    "# load model\n",
    "m = models.DnCNN_C_pretrained_weights(sigma)\n",
    "\n",
    "# noisy image\n",
    "img_clean = np.array(Image.open('DnCNN/testsets/LIVE1/bikes.bmp'), dtype='float32') / 255.0\n",
    "x_test = img_clean + np.random.randn(*img_clean.shape)*sigma/255\n",
    "x_test = x_test.reshape(1, x_test.shape[0], x_test.shape[1], 3) \n",
    "\n",
    "# predict noiseless\n",
    "y_predict = m.predict(x_test)\n",
    "\n",
    "# display\n",
    "show_array(x_test.clip(0,1).squeeze()*255)\n",
    "show_array(y_predict.clip(0,1).squeeze()*255)"
   ]
  },
  {
   "cell_type": "markdown",
   "metadata": {},
   "source": [
    "---------------------------\n",
    "[//]: # (© 2018 Gabriele Facciolo)\n",
    "[//]: # (<div style=\"text-align:center; font-size:75%;\"> Copyright © 2018 Gabriele Facciolo. All rights reserved.</div> )"
   ]
  }
 ],
 "metadata": {
  "kernelspec": {
   "display_name": "Python 3",
   "language": "python",
   "name": "python3"
  },
  "language_info": {
   "codemirror_mode": {
    "name": "ipython",
    "version": 3
   },
   "file_extension": ".py",
   "mimetype": "text/x-python",
   "name": "python",
   "nbconvert_exporter": "python",
   "pygments_lexer": "ipython3",
   "version": "3.5.2"
  },
  "varInspector": {
   "cols": {
    "lenName": 16,
    "lenType": 16,
    "lenVar": 40
   },
   "kernels_config": {
    "python": {
     "delete_cmd_postfix": "",
     "delete_cmd_prefix": "del ",
     "library": "var_list.py",
     "varRefreshCmd": "print(var_dic_list())"
    },
    "r": {
     "delete_cmd_postfix": ") ",
     "delete_cmd_prefix": "rm(",
     "library": "var_list.r",
     "varRefreshCmd": "cat(var_dic_list()) "
    }
   },
   "types_to_exclude": [
    "module",
    "function",
    "builtin_function_or_method",
    "instance",
    "_Feature"
   ],
   "window_display": false
  }
 },
 "nbformat": 4,
 "nbformat_minor": 2
}
